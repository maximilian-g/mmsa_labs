{
 "cells": [
  {
   "cell_type": "markdown",
   "source": [
    "    For this lab you need subsample with 3-5 random variables, at least half of\n",
    "them should be described with continuous random variable type.\n",
    "OK - PS4_GameSales.csv, Continuous random variables(sales in this countries):\n",
    " North America,Europe,Japan\n",
    "\n",
    "    Choose subsample with main variables for your further analysis. Then for each of\n",
    "them perform following steps:\n",
    "\n",
    "#Step 2\n",
    "\n",
    "    You need to make a non-parametric estimation of PDF in form of histogram and using\n",
    "kernel density function (or probability law in case of discrete RV).\n",
    "\n",
    "NOTES:\n",
    "\n",
    "Discrete random variable - variable that can have limited number of possible values.\n",
    "Probability law - relation between certain value of random variable(outcome) and its probability\n",
    "Example: Gender\n",
    "\n",
    "Continuous random variable - variable that can take any value in given range.\n",
    "PDF(Probability Distribution Function) - probability that random variable(outcome) takes a values less than 'x'.\n",
    "Example: Temperature, Probability itself(can take any value inside [0, 1] range)\n",
    "\n"
   ],
   "metadata": {
    "collapsed": false,
    "pycharm": {
     "name": "#%% md\n"
    }
   }
  },
  {
   "cell_type": "code",
   "execution_count": 9,
   "outputs": [
    {
     "name": "stdout",
     "output_type": "stream",
     "text": [
      "C:\\Python_projects\\mmsa_labs\\mmsa_lab_1\n"
     ]
    },
    {
     "data": {
      "text/plain": "<AxesSubplot:>"
     },
     "execution_count": 9,
     "metadata": {},
     "output_type": "execute_result"
    },
    {
     "data": {
      "text/plain": "<Figure size 640x480 with 1 Axes>",
      "image/png": "[encoded data removed]"
     },
     "metadata": {},
     "output_type": "display_data"
    }
   ],
   "source": [
    "import scipy\n",
    "import pandas as pd\n",
    "import numpy as np\n",
    "import matplotlib.pyplot as plt\n",
    "from scipy.stats.distributions import gamma\n",
    "from scipy.stats import kde\n",
    "\n",
    "res = pd.read_csv('data/PS4_GamesSales.csv', header=0, encoding='unicode_escape')\n",
    "# fixing some data\n",
    "res.fillna(value='N\\A', inplace=True)\n",
    "\n",
    "lognorm_fit = scipy.stats.lognorm.fit(res['North America'])\n",
    "# North America\n",
    "res['North America'].hist(density=True, bins=10)"
   ],
   "metadata": {
    "collapsed": false,
    "pycharm": {
     "name": "#%%\n"
    }
   }
  },
  {
   "cell_type": "code",
   "execution_count": 5,
   "outputs": [
    {
     "ename": "NameError",
     "evalue": "name 'res' is not defined",
     "output_type": "error",
     "traceback": [
      "\u001B[1;31m---------------------------------------------------------------------------\u001B[0m",
      "\u001B[1;31mNameError\u001B[0m                                 Traceback (most recent call last)",
      "Cell \u001B[1;32mIn [5], line 2\u001B[0m\n\u001B[0;32m      1\u001B[0m \u001B[38;5;66;03m# Estimation of PDF using lognorm distribution\u001B[39;00m\n\u001B[1;32m----> 2\u001B[0m x \u001B[38;5;241m=\u001B[39m np\u001B[38;5;241m.\u001B[39mlinspace(np\u001B[38;5;241m.\u001B[39mmin(\u001B[43mres\u001B[49m[\u001B[38;5;124m'\u001B[39m\u001B[38;5;124mNorth America\u001B[39m\u001B[38;5;124m'\u001B[39m]), np\u001B[38;5;241m.\u001B[39mmax(res[\u001B[38;5;124m'\u001B[39m\u001B[38;5;124mNorth America\u001B[39m\u001B[38;5;124m'\u001B[39m]))\n\u001B[0;32m      3\u001B[0m \u001B[38;5;66;03m# plt.plot(np.linspace(0, 10), gamma.pdf(np.linspace(0, 10), alpha_mom, beta_mom))\u001B[39;00m\n\u001B[0;32m      4\u001B[0m plt\u001B[38;5;241m.\u001B[39mplot(x, scipy\u001B[38;5;241m.\u001B[39mstats\u001B[38;5;241m.\u001B[39mlognorm\u001B[38;5;241m.\u001B[39mpdf(x, \u001B[38;5;241m*\u001B[39mlognorm_fit), \u001B[38;5;124m\"\u001B[39m\u001B[38;5;124mr--\u001B[39m\u001B[38;5;124m\"\u001B[39m)\n",
      "\u001B[1;31mNameError\u001B[0m: name 'res' is not defined"
     ]
    }
   ],
   "source": [
    "# Estimation of PDF using lognorm distribution\n",
    "x = np.linspace(np.min(res['North America']), np.max(res['North America']))\n",
    "# plt.plot(np.linspace(0, 10), gamma.pdf(np.linspace(0, 10), alpha_mom, beta_mom))\n",
    "plt.plot(x, scipy.stats.lognorm.pdf(x, *lognorm_fit), \"r--\")"
   ],
   "metadata": {
    "collapsed": false,
    "pycharm": {
     "name": "#%%\n"
    }
   }
  },
  {
   "cell_type": "code",
   "execution_count": null,
   "outputs": [],
   "source": [
    "# Kernel Density Function\n",
    "density = kde.gaussian_kde(res['North America'])\n",
    "xgrid = np.linspace(res['North America'].min(), res['North America'].max(), 100)\n",
    "res['North America'].hist(density=True, bins=100)\n",
    "plt.plot(xgrid, density(xgrid), 'r-')"
   ],
   "metadata": {
    "collapsed": false,
    "pycharm": {
     "name": "#%%\n"
    }
   }
  },
  {
   "cell_type": "code",
   "execution_count": null,
   "outputs": [],
   "source": [
    "# Europe\n",
    "res['Europe'].hist(density=True, bins=10)"
   ],
   "metadata": {
    "collapsed": false,
    "pycharm": {
     "name": "#%%\n"
    }
   }
  },
  {
   "cell_type": "code",
   "execution_count": null,
   "outputs": [],
   "source": [
    "# Estimation of PDF using lognorm distribution\n",
    "x = np.linspace(np.min(res['Europe']), np.max(res['Europe']))\n",
    "# plt.plot(np.linspace(0, 10), gamma.pdf(np.linspace(0, 10), alpha_mom, beta_mom))\n",
    "plt.plot(x, scipy.stats.lognorm.pdf(x, *lognorm_fit), \"r--\")"
   ],
   "metadata": {
    "collapsed": false,
    "pycharm": {
     "name": "#%%\n"
    }
   }
  },
  {
   "cell_type": "code",
   "execution_count": null,
   "outputs": [],
   "source": [
    "# Kernel Density Function\n",
    "density = kde.gaussian_kde(res['Europe'])\n",
    "xgrid = np.linspace(res['Europe'].min(), res['Europe'].max(), 100)\n",
    "res['Europe'].hist(density=True, bins=100)\n",
    "plt.plot(xgrid, density(xgrid), 'r-')"
   ],
   "metadata": {
    "collapsed": false,
    "pycharm": {
     "name": "#%%\n"
    }
   }
  },
  {
   "cell_type": "code",
   "execution_count": null,
   "outputs": [],
   "source": [
    "# Japan\n",
    "res['Japan'].hist(density=True, bins=10)"
   ],
   "metadata": {
    "collapsed": false,
    "pycharm": {
     "name": "#%%\n"
    }
   }
  },
  {
   "cell_type": "code",
   "execution_count": null,
   "outputs": [],
   "source": [
    "# Estimation of PDF using lognorm distribution\n",
    "x = np.linspace(np.min(res['Japan']), np.max(res['Japan']))\n",
    "# plt.plot(np.linspace(0, 10), gamma.pdf(np.linspace(0, 10), alpha_mom, beta_mom))\n",
    "plt.plot(x, scipy.stats.lognorm.pdf(x, *lognorm_fit), \"r--\")"
   ],
   "metadata": {
    "collapsed": false,
    "pycharm": {
     "name": "#%%\n"
    }
   }
  },
  {
   "cell_type": "code",
   "execution_count": null,
   "outputs": [],
   "source": [
    "# Kernel Density Function\n",
    "density = kde.gaussian_kde(res['Japan'])\n",
    "xgrid = np.linspace(res['Japan'].min(), res['Japan'].max(), 100)\n",
    "res['Japan'].hist(density=True, bins=100)\n",
    "plt.plot(xgrid, density(xgrid), 'r-')"
   ],
   "metadata": {
    "collapsed": false,
    "pycharm": {
     "name": "#%%\n"
    }
   }
  }
 ],
 "metadata": {
  "kernelspec": {
   "display_name": "Python 3",
   "language": "python",
   "name": "python3"
  },
  "language_info": {
   "codemirror_mode": {
    "name": "ipython",
    "version": 2
   },
   "file_extension": ".py",
   "mimetype": "text/x-python",
   "name": "python",
   "nbconvert_exporter": "python",
   "pygments_lexer": "ipython2",
   "version": "2.7.6"
  }
 },
 "nbformat": 4,
 "nbformat_minor": 0
}