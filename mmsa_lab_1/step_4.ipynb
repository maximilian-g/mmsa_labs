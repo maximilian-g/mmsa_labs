{
 "cells": [
  {
   "cell_type": "markdown",
   "source": [
    "#Step 4\n",
    "Find one or several theoretical distributions that could describe your sample on a\n",
    "basis of non-parametric analysis results.\n",
    "\n",
    "Seems like lognorm distribution, very similar to data set that was presented in\n",
    "Lognorm distribution example in Workshop1."
   ],
   "metadata": {
    "collapsed": false,
    "pycharm": {
     "name": "#%% md\n"
    }
   }
  }
 ],
 "metadata": {
  "kernelspec": {
   "display_name": "Python 3",
   "language": "python",
   "name": "python3"
  },
  "language_info": {
   "codemirror_mode": {
    "name": "ipython",
    "version": 2
   },
   "file_extension": ".py",
   "mimetype": "text/x-python",
   "name": "python",
   "nbconvert_exporter": "python",
   "pygments_lexer": "ipython2",
   "version": "2.7.6"
  }
 },
 "nbformat": 4,
 "nbformat_minor": 0
}