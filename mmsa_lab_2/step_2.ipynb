{
 "cells": [
  {
   "cell_type": "markdown",
   "source": [
    "# Step 2\n",
    "\n",
    "Make an estimation of multivariate mathematical expectation and variance."
   ],
   "metadata": {
    "collapsed": false,
    "pycharm": {
     "name": "#%% md\n"
    }
   }
  },
  {
   "cell_type": "code",
   "execution_count": 1,
   "outputs": [
    {
     "name": "stdout",
     "output_type": "stream",
     "text": [
      "Multivariate Mathematical Expectation:\n"
     ]
    },
    {
     "data": {
      "text/plain": "High         28.684526\nLow          27.580384\nOpen         28.151247\nClose        28.147719\nAdj Close    27.895075\ndtype: float64"
     },
     "execution_count": 1,
     "metadata": {},
     "output_type": "execute_result"
    }
   ],
   "source": [
    "import pandas as pd\n",
    "\n",
    "\n",
    "res = pd.read_csv('data/NVIDIA Corporation.csv', header=0, encoding='unicode_escape')\n",
    "res = res.drop(columns=['Date', 'Volume'])\n",
    "\n",
    "print('Multivariate Mathematical Expectation:')\n",
    "res.mean().round(6)"
   ],
   "metadata": {
    "collapsed": false,
    "pycharm": {
     "name": "#%%\n"
    }
   }
  },
  {
   "cell_type": "code",
   "execution_count": 2,
   "outputs": [
    {
     "name": "stdout",
     "output_type": "stream",
     "text": [
      "Multivariate Variance:\n"
     ]
    },
    {
     "data": {
      "text/plain": "High         3246.210062\nLow          2979.029832\nOpen         3118.440839\nClose        3113.790678\nAdj Close    3115.189152\ndtype: float64"
     },
     "execution_count": 2,
     "metadata": {},
     "output_type": "execute_result"
    }
   ],
   "source": [
    "print('Multivariate Variance:')\n",
    "res.var().round(6)"
   ],
   "metadata": {
    "collapsed": false,
    "pycharm": {
     "name": "#%%\n"
    }
   }
  },
  {
   "cell_type": "code",
   "execution_count": 4,
   "outputs": [
    {
     "data": {
      "text/plain": "              High          Low         Open        Close    Adj Close\ncount  5996.000000  5996.000000  5996.000000  5996.000000  5996.000000\nmean     28.684526    27.580384    28.151247    28.147719    27.895075\nstd      56.975522    54.580489    55.843002    55.801350    55.813880\nmin       0.355469     0.333333     0.348958     0.341146     0.313168\n25%       2.710000     2.555000     2.637500     2.639375     2.422912\n50%       4.219584     4.037500     4.148750     4.147917     3.810794\n75%      23.593125    23.025000    23.343750    23.341875    23.002244\nmax     346.470001   320.359985   335.170013   333.760010   333.492706",
      "text/html": "<div>\n<style scoped>\n    .dataframe tbody tr th:only-of-type {\n        vertical-align: middle;\n    }\n\n    .dataframe tbody tr th {\n        vertical-align: top;\n    }\n\n    .dataframe thead th {\n        text-align: right;\n    }\n</style>\n<table border=\"1\" class=\"dataframe\">\n  <thead>\n    <tr style=\"text-align: right;\">\n      <th></th>\n      <th>High</th>\n      <th>Low</th>\n      <th>Open</th>\n      <th>Close</th>\n      <th>Adj Close</th>\n    </tr>\n  </thead>\n  <tbody>\n    <tr>\n      <th>count</th>\n      <td>5996.000000</td>\n      <td>5996.000000</td>\n      <td>5996.000000</td>\n      <td>5996.000000</td>\n      <td>5996.000000</td>\n    </tr>\n    <tr>\n      <th>mean</th>\n      <td>28.684526</td>\n      <td>27.580384</td>\n      <td>28.151247</td>\n      <td>28.147719</td>\n      <td>27.895075</td>\n    </tr>\n    <tr>\n      <th>std</th>\n      <td>56.975522</td>\n      <td>54.580489</td>\n      <td>55.843002</td>\n      <td>55.801350</td>\n      <td>55.813880</td>\n    </tr>\n    <tr>\n      <th>min</th>\n      <td>0.355469</td>\n      <td>0.333333</td>\n      <td>0.348958</td>\n      <td>0.341146</td>\n      <td>0.313168</td>\n    </tr>\n    <tr>\n      <th>25%</th>\n      <td>2.710000</td>\n      <td>2.555000</td>\n      <td>2.637500</td>\n      <td>2.639375</td>\n      <td>2.422912</td>\n    </tr>\n    <tr>\n      <th>50%</th>\n      <td>4.219584</td>\n      <td>4.037500</td>\n      <td>4.148750</td>\n      <td>4.147917</td>\n      <td>3.810794</td>\n    </tr>\n    <tr>\n      <th>75%</th>\n      <td>23.593125</td>\n      <td>23.025000</td>\n      <td>23.343750</td>\n      <td>23.341875</td>\n      <td>23.002244</td>\n    </tr>\n    <tr>\n      <th>max</th>\n      <td>346.470001</td>\n      <td>320.359985</td>\n      <td>335.170013</td>\n      <td>333.760010</td>\n      <td>333.492706</td>\n    </tr>\n  </tbody>\n</table>\n</div>"
     },
     "execution_count": 4,
     "metadata": {},
     "output_type": "execute_result"
    }
   ],
   "source": [
    "res.describe()"
   ],
   "metadata": {
    "collapsed": false,
    "pycharm": {
     "name": "#%%\n"
    }
   }
  },
  {
   "cell_type": "code",
   "execution_count": null,
   "outputs": [],
   "source": [],
   "metadata": {
    "collapsed": false,
    "pycharm": {
     "name": "#%%\n"
    }
   }
  }
 ],
 "metadata": {
  "kernelspec": {
   "display_name": "Python 3",
   "language": "python",
   "name": "python3"
  },
  "language_info": {
   "codemirror_mode": {
    "name": "ipython",
    "version": 2
   },
   "file_extension": ".py",
   "mimetype": "text/x-python",
   "name": "python",
   "nbconvert_exporter": "python",
   "pygments_lexer": "ipython2",
   "version": "2.7.6"
  }
 },
 "nbformat": 4,
 "nbformat_minor": 0
}