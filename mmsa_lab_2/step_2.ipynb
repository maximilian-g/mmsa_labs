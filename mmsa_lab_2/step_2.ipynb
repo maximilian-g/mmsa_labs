{
 "cells": [
  {
   "cell_type": "markdown",
   "source": [
    "# Step 2\n",
    "\n",
    "Make an estimation of multivariate mathematical expectation and variance."
   ],
   "metadata": {
    "collapsed": false,
    "pycharm": {
     "name": "#%% md\n"
    }
   }
  },
  {
   "cell_type": "code",
   "execution_count": 1,
   "outputs": [
    {
     "name": "stdout",
     "output_type": "stream",
     "text": [
      "Multivariate Mathematical Expectation: [28.68452585 27.58038407 28.1512467  28.14771851 27.89507516]\n",
      "Multivariate Variance: [[3246.21006211 3108.87438667 3180.98339908 3178.51387693 3179.22664868]\n",
      " [3108.87438667 2979.02983224 3047.2088456  3044.94654955 3045.61408586]\n",
      " [3180.98339908 3047.2088456  3118.44083865 3114.42545096 3115.11539381]\n",
      " [3178.51387693 3044.94654955 3114.42545096 3113.79067834 3114.48031247]\n",
      " [3179.22664868 3045.61408586 3115.11539381 3114.48031247 3115.18915239]]\n"
     ]
    }
   ],
   "source": [
    "import pandas as pd\n",
    "\n",
    "\n",
    "res = pd.read_csv('data/NVIDIA Corporation.csv', header=0, encoding='unicode_escape')\n",
    "res = res.drop(columns=['Date', 'Volume'])\n",
    "\n",
    "mean = res.mean().values\n",
    "cov = res.cov().values\n",
    "print('Multivariate Mathematical Expectation:', mean)\n",
    "print('Multivariate Variance:', cov)"
   ],
   "metadata": {
    "collapsed": false,
    "pycharm": {
     "name": "#%%\n"
    }
   }
  },
  {
   "cell_type": "code",
   "execution_count": null,
   "outputs": [],
   "source": [],
   "metadata": {
    "collapsed": false,
    "pycharm": {
     "name": "#%%\n"
    }
   }
  }
 ],
 "metadata": {
  "kernelspec": {
   "display_name": "Python 3",
   "language": "python",
   "name": "python3"
  },
  "language_info": {
   "codemirror_mode": {
    "name": "ipython",
    "version": 2
   },
   "file_extension": ".py",
   "mimetype": "text/x-python",
   "name": "python",
   "nbconvert_exporter": "python",
   "pygments_lexer": "ipython2",
   "version": "2.7.6"
  }
 },
 "nbformat": 4,
 "nbformat_minor": 0
}