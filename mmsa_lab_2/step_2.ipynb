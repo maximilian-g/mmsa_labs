{
 "cells": [
  {
   "cell_type": "markdown",
   "source": [
    "# Step 2\n",
    "\n",
    "Make an estimation of multivariate mathematical expectation and variance."
   ],
   "metadata": {
    "collapsed": false,
    "pycharm": {
     "name": "#%% md\n"
    }
   }
  },
  {
   "cell_type": "code",
   "execution_count": 1,
   "outputs": [
    {
     "name": "stdout",
     "output_type": "stream",
     "text": [
      "Multivariate Mathematical Expectation:\n"
     ]
    },
    {
     "data": {
      "text/plain": "High         28.684526\nLow          27.580384\nOpen         28.151247\nClose        28.147719\nAdj Close    27.895075\ndtype: float64"
     },
     "execution_count": 1,
     "metadata": {},
     "output_type": "execute_result"
    }
   ],
   "source": [
    "import pandas as pd\n",
    "\n",
    "\n",
    "res = pd.read_csv('data/NVIDIA Corporation.csv', header=0, encoding='unicode_escape')\n",
    "res = res.drop(columns=['Date', 'Volume'])\n",
    "\n",
    "print('Multivariate Mathematical Expectation:')\n",
    "res.mean().round(6)"
   ],
   "metadata": {
    "collapsed": false,
    "pycharm": {
     "name": "#%%\n"
    }
   }
  },
  {
   "cell_type": "code",
   "execution_count": 2,
   "outputs": [
    {
     "name": "stdout",
     "output_type": "stream",
     "text": [
      "Multivariate Variance:\n"
     ]
    },
    {
     "data": {
      "text/plain": "High         3246.210062\nLow          2979.029832\nOpen         3118.440839\nClose        3113.790678\nAdj Close    3115.189152\ndtype: float64"
     },
     "execution_count": 2,
     "metadata": {},
     "output_type": "execute_result"
    }
   ],
   "source": [
    "print('Multivariate Variance:')\n",
    "res.var().round(6)"
   ],
   "metadata": {
    "collapsed": false,
    "pycharm": {
     "name": "#%%\n"
    }
   }
  },
  {
   "cell_type": "code",
   "execution_count": null,
   "outputs": [],
   "source": [],
   "metadata": {
    "collapsed": false,
    "pycharm": {
     "name": "#%%\n"
    }
   }
  }
 ],
 "metadata": {
  "kernelspec": {
   "display_name": "Python 3",
   "language": "python",
   "name": "python3"
  },
  "language_info": {
   "codemirror_mode": {
    "name": "ipython",
    "version": 2
   },
   "file_extension": ".py",
   "mimetype": "text/x-python",
   "name": "python",
   "nbconvert_exporter": "python",
   "pygments_lexer": "ipython2",
   "version": "2.7.6"
  }
 },
 "nbformat": 4,
 "nbformat_minor": 0
}