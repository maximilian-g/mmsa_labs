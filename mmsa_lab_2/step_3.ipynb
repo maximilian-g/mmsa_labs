{
 "cells": [
  {
   "cell_type": "markdown",
   "source": [
    "# Step 3\n",
    "\n",
    "Make a non-parametric estimation of conditional distributions, mathematical expectations and variances."
   ],
   "metadata": {
    "collapsed": false,
    "pycharm": {
     "name": "#%% md\n"
    }
   }
  },
  {
   "cell_type": "code",
   "execution_count": 2,
   "outputs": [
    {
     "name": "stdout",
     "output_type": "stream",
     "text": [
      "Estimation of mathematical expectations of each variable:\n",
      " [0.0009483276199959811, 0.0016561930670903773, 0.0013697848841881203, 0.001294338947391737, 0.0011754366930743615]\n",
      "Estimation of variances of each variable:\n",
      " [0.0, -4.235164736271502e-22, -2.117582368135751e-22, 0.0, -2.117582368135751e-22]\n",
      "Estimation of conditional distributions of each variable given the others:\n",
      " [array([1.03162211, 0.97099838, 0.9794632 , ..., 0.37107561, 1.31370531,\n",
      "       0.78469588]), array([1.01436039, 0.97536358, 0.96790977, ..., 0.39547177, 1.33401011,\n",
      "       1.29757044]), array([1.04700366, 0.96279538, 1.01367021, ..., 0.4603048 , 1.10182078,\n",
      "       0.98159549]), array([0.97077039, 0.89421575, 0.94019868, ..., 0.51596721, 1.08655508,\n",
      "       1.03129253]), array([0.9832674 , 1.00449558, 0.98820432, ..., 1.06574445, 1.01545613,\n",
      "       1.6535966 ]), array([1.01491006, 0.99155199, 1.03492425, ..., 1.24046096, 0.83871228,\n",
      "       1.25092474]), array([0.94101355, 0.92092404, 0.95991221, ..., 1.39046382, 0.82709194,\n",
      "       1.3142576 ]), array([1.03218114, 0.98711434, 1.0472776 , ..., 1.16393847, 0.82594635,\n",
      "       0.75648725]), array([0.95702711, 0.91680248, 0.97137018, ..., 1.30468784, 0.81450288,\n",
      "       0.79478732]), array([0.92718911, 0.9287703 , 0.92751929, ..., 1.1209251 , 0.98614502,\n",
      "       1.05062884])]\n"
     ]
    }
   ],
   "source": [
    "import numpy as np\n",
    "from sklearn.neighbors import KernelDensity\n",
    "import pandas as pd\n",
    "\n",
    "\n",
    "res = pd.read_csv('data/NVIDIA Corporation.csv', header=0, encoding='unicode_escape')\n",
    "df = res.drop(columns=['Date', 'Volume'])\n",
    "\n",
    "# Train the KernelDensity estimator for each variable\n",
    "kde_list = [KernelDensity(kernel='gaussian', bandwidth=0.5).fit(df[col].values.reshape(-1, 1)) for col in df.columns]\n",
    "\n",
    "# Estimate the mathematical expectations of each variable\n",
    "math_expects = [np.exp(kde.score_samples(np.array([[df[col].mean()]])))[0] for kde, col in zip(kde_list, df.columns)]\n",
    "print(\"Estimation of mathematical expectations of each variable:\\n\", math_expects)\n",
    "\n",
    "# Estimate the variances of each variable\n",
    "variances = [np.exp(2 * kde.score_samples(np.array([[df[col].mean()]])))[0] - math_expect**2 for kde, col, math_expect in zip(kde_list, df.columns, math_expects)]\n",
    "print(\"Estimation of variances of each variable:\\n\", variances)\n",
    "\n",
    "# Estimate the conditional distributions of each variable given the others\n",
    "cond_dists = []\n",
    "for i, col1 in enumerate(df.columns):\n",
    "    kde1 = kde_list[i]\n",
    "    for col2 in df.columns[i+1:]:\n",
    "        kde2 = kde_list[df.columns.get_loc(col2)]\n",
    "        cond_dists.append(np.exp(kde1.score_samples(df[[col1]].values) - kde2.score_samples(df[[col2]].values)))\n",
    "print(\"Estimation of conditional distributions of each variable given the others:\\n\", cond_dists)"
   ],
   "metadata": {
    "collapsed": false,
    "pycharm": {
     "name": "#%%\n"
    }
   }
  },
  {
   "cell_type": "code",
   "execution_count": null,
   "outputs": [],
   "source": [],
   "metadata": {
    "collapsed": false,
    "pycharm": {
     "name": "#%%\n"
    }
   }
  }
 ],
 "metadata": {
  "kernelspec": {
   "display_name": "Python 3",
   "language": "python",
   "name": "python3"
  },
  "language_info": {
   "codemirror_mode": {
    "name": "ipython",
    "version": 2
   },
   "file_extension": ".py",
   "mimetype": "text/x-python",
   "name": "python",
   "nbconvert_exporter": "python",
   "pygments_lexer": "ipython2",
   "version": "2.7.6"
  }
 },
 "nbformat": 4,
 "nbformat_minor": 0
}